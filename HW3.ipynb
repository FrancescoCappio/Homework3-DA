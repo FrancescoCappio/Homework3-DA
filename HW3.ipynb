{
  "nbformat": 4,
  "nbformat_minor": 0,
  "metadata": {
    "colab": {
      "provenance": []
    },
    "kernelspec": {
      "name": "python3",
      "display_name": "Python 3"
    },
    "language_info": {
      "name": "python"
    },
    "accelerator": "GPU",
    "gpuClass": "standard",
    "widgets": {
      "application/vnd.jupyter.widget-state+json": {
        "d94137bbf7eb408dba1846e46e83addc": {
          "model_module": "@jupyter-widgets/controls",
          "model_name": "HBoxModel",
          "model_module_version": "1.5.0",
          "state": {
            "_dom_classes": [],
            "_model_module": "@jupyter-widgets/controls",
            "_model_module_version": "1.5.0",
            "_model_name": "HBoxModel",
            "_view_count": null,
            "_view_module": "@jupyter-widgets/controls",
            "_view_module_version": "1.5.0",
            "_view_name": "HBoxView",
            "box_style": "",
            "children": [
              "IPY_MODEL_1d3ef9e19213425491b950ee48c8f6b3",
              "IPY_MODEL_37331533de7346f0adcde2a4c0a2d527",
              "IPY_MODEL_dea088c4f7834a48946b8a727335b8b6"
            ],
            "layout": "IPY_MODEL_f00406a82fdf4f18b1008a046e3c0837"
          }
        },
        "1d3ef9e19213425491b950ee48c8f6b3": {
          "model_module": "@jupyter-widgets/controls",
          "model_name": "HTMLModel",
          "model_module_version": "1.5.0",
          "state": {
            "_dom_classes": [],
            "_model_module": "@jupyter-widgets/controls",
            "_model_module_version": "1.5.0",
            "_model_name": "HTMLModel",
            "_view_count": null,
            "_view_module": "@jupyter-widgets/controls",
            "_view_module_version": "1.5.0",
            "_view_name": "HTMLView",
            "description": "",
            "description_tooltip": null,
            "layout": "IPY_MODEL_e9572e2443a242e1955e496e01843fa0",
            "placeholder": "​",
            "style": "IPY_MODEL_d9751db054284805a8b56f81169e1549",
            "value": "100%"
          }
        },
        "37331533de7346f0adcde2a4c0a2d527": {
          "model_module": "@jupyter-widgets/controls",
          "model_name": "FloatProgressModel",
          "model_module_version": "1.5.0",
          "state": {
            "_dom_classes": [],
            "_model_module": "@jupyter-widgets/controls",
            "_model_module_version": "1.5.0",
            "_model_name": "FloatProgressModel",
            "_view_count": null,
            "_view_module": "@jupyter-widgets/controls",
            "_view_module_version": "1.5.0",
            "_view_name": "ProgressView",
            "bar_style": "success",
            "description": "",
            "description_tooltip": null,
            "layout": "IPY_MODEL_13d9edc9ed624442b9c1dbae74706f15",
            "max": 244418560,
            "min": 0,
            "orientation": "horizontal",
            "style": "IPY_MODEL_9b7e1a43faac463f90387e4748fb5243",
            "value": 244418560
          }
        },
        "dea088c4f7834a48946b8a727335b8b6": {
          "model_module": "@jupyter-widgets/controls",
          "model_name": "HTMLModel",
          "model_module_version": "1.5.0",
          "state": {
            "_dom_classes": [],
            "_model_module": "@jupyter-widgets/controls",
            "_model_module_version": "1.5.0",
            "_model_name": "HTMLModel",
            "_view_count": null,
            "_view_module": "@jupyter-widgets/controls",
            "_view_module_version": "1.5.0",
            "_view_name": "HTMLView",
            "description": "",
            "description_tooltip": null,
            "layout": "IPY_MODEL_57a64f2c620245188b054768ab8be492",
            "placeholder": "​",
            "style": "IPY_MODEL_0f001d342d44408abfd4725d8d5e673b",
            "value": " 233M/233M [00:06&lt;00:00, 47.0MB/s]"
          }
        },
        "f00406a82fdf4f18b1008a046e3c0837": {
          "model_module": "@jupyter-widgets/base",
          "model_name": "LayoutModel",
          "model_module_version": "1.2.0",
          "state": {
            "_model_module": "@jupyter-widgets/base",
            "_model_module_version": "1.2.0",
            "_model_name": "LayoutModel",
            "_view_count": null,
            "_view_module": "@jupyter-widgets/base",
            "_view_module_version": "1.2.0",
            "_view_name": "LayoutView",
            "align_content": null,
            "align_items": null,
            "align_self": null,
            "border": null,
            "bottom": null,
            "display": null,
            "flex": null,
            "flex_flow": null,
            "grid_area": null,
            "grid_auto_columns": null,
            "grid_auto_flow": null,
            "grid_auto_rows": null,
            "grid_column": null,
            "grid_gap": null,
            "grid_row": null,
            "grid_template_areas": null,
            "grid_template_columns": null,
            "grid_template_rows": null,
            "height": null,
            "justify_content": null,
            "justify_items": null,
            "left": null,
            "margin": null,
            "max_height": null,
            "max_width": null,
            "min_height": null,
            "min_width": null,
            "object_fit": null,
            "object_position": null,
            "order": null,
            "overflow": null,
            "overflow_x": null,
            "overflow_y": null,
            "padding": null,
            "right": null,
            "top": null,
            "visibility": null,
            "width": null
          }
        },
        "e9572e2443a242e1955e496e01843fa0": {
          "model_module": "@jupyter-widgets/base",
          "model_name": "LayoutModel",
          "model_module_version": "1.2.0",
          "state": {
            "_model_module": "@jupyter-widgets/base",
            "_model_module_version": "1.2.0",
            "_model_name": "LayoutModel",
            "_view_count": null,
            "_view_module": "@jupyter-widgets/base",
            "_view_module_version": "1.2.0",
            "_view_name": "LayoutView",
            "align_content": null,
            "align_items": null,
            "align_self": null,
            "border": null,
            "bottom": null,
            "display": null,
            "flex": null,
            "flex_flow": null,
            "grid_area": null,
            "grid_auto_columns": null,
            "grid_auto_flow": null,
            "grid_auto_rows": null,
            "grid_column": null,
            "grid_gap": null,
            "grid_row": null,
            "grid_template_areas": null,
            "grid_template_columns": null,
            "grid_template_rows": null,
            "height": null,
            "justify_content": null,
            "justify_items": null,
            "left": null,
            "margin": null,
            "max_height": null,
            "max_width": null,
            "min_height": null,
            "min_width": null,
            "object_fit": null,
            "object_position": null,
            "order": null,
            "overflow": null,
            "overflow_x": null,
            "overflow_y": null,
            "padding": null,
            "right": null,
            "top": null,
            "visibility": null,
            "width": null
          }
        },
        "d9751db054284805a8b56f81169e1549": {
          "model_module": "@jupyter-widgets/controls",
          "model_name": "DescriptionStyleModel",
          "model_module_version": "1.5.0",
          "state": {
            "_model_module": "@jupyter-widgets/controls",
            "_model_module_version": "1.5.0",
            "_model_name": "DescriptionStyleModel",
            "_view_count": null,
            "_view_module": "@jupyter-widgets/base",
            "_view_module_version": "1.2.0",
            "_view_name": "StyleView",
            "description_width": ""
          }
        },
        "13d9edc9ed624442b9c1dbae74706f15": {
          "model_module": "@jupyter-widgets/base",
          "model_name": "LayoutModel",
          "model_module_version": "1.2.0",
          "state": {
            "_model_module": "@jupyter-widgets/base",
            "_model_module_version": "1.2.0",
            "_model_name": "LayoutModel",
            "_view_count": null,
            "_view_module": "@jupyter-widgets/base",
            "_view_module_version": "1.2.0",
            "_view_name": "LayoutView",
            "align_content": null,
            "align_items": null,
            "align_self": null,
            "border": null,
            "bottom": null,
            "display": null,
            "flex": null,
            "flex_flow": null,
            "grid_area": null,
            "grid_auto_columns": null,
            "grid_auto_flow": null,
            "grid_auto_rows": null,
            "grid_column": null,
            "grid_gap": null,
            "grid_row": null,
            "grid_template_areas": null,
            "grid_template_columns": null,
            "grid_template_rows": null,
            "height": null,
            "justify_content": null,
            "justify_items": null,
            "left": null,
            "margin": null,
            "max_height": null,
            "max_width": null,
            "min_height": null,
            "min_width": null,
            "object_fit": null,
            "object_position": null,
            "order": null,
            "overflow": null,
            "overflow_x": null,
            "overflow_y": null,
            "padding": null,
            "right": null,
            "top": null,
            "visibility": null,
            "width": null
          }
        },
        "9b7e1a43faac463f90387e4748fb5243": {
          "model_module": "@jupyter-widgets/controls",
          "model_name": "ProgressStyleModel",
          "model_module_version": "1.5.0",
          "state": {
            "_model_module": "@jupyter-widgets/controls",
            "_model_module_version": "1.5.0",
            "_model_name": "ProgressStyleModel",
            "_view_count": null,
            "_view_module": "@jupyter-widgets/base",
            "_view_module_version": "1.2.0",
            "_view_name": "StyleView",
            "bar_color": null,
            "description_width": ""
          }
        },
        "57a64f2c620245188b054768ab8be492": {
          "model_module": "@jupyter-widgets/base",
          "model_name": "LayoutModel",
          "model_module_version": "1.2.0",
          "state": {
            "_model_module": "@jupyter-widgets/base",
            "_model_module_version": "1.2.0",
            "_model_name": "LayoutModel",
            "_view_count": null,
            "_view_module": "@jupyter-widgets/base",
            "_view_module_version": "1.2.0",
            "_view_name": "LayoutView",
            "align_content": null,
            "align_items": null,
            "align_self": null,
            "border": null,
            "bottom": null,
            "display": null,
            "flex": null,
            "flex_flow": null,
            "grid_area": null,
            "grid_auto_columns": null,
            "grid_auto_flow": null,
            "grid_auto_rows": null,
            "grid_column": null,
            "grid_gap": null,
            "grid_row": null,
            "grid_template_areas": null,
            "grid_template_columns": null,
            "grid_template_rows": null,
            "height": null,
            "justify_content": null,
            "justify_items": null,
            "left": null,
            "margin": null,
            "max_height": null,
            "max_width": null,
            "min_height": null,
            "min_width": null,
            "object_fit": null,
            "object_position": null,
            "order": null,
            "overflow": null,
            "overflow_x": null,
            "overflow_y": null,
            "padding": null,
            "right": null,
            "top": null,
            "visibility": null,
            "width": null
          }
        },
        "0f001d342d44408abfd4725d8d5e673b": {
          "model_module": "@jupyter-widgets/controls",
          "model_name": "DescriptionStyleModel",
          "model_module_version": "1.5.0",
          "state": {
            "_model_module": "@jupyter-widgets/controls",
            "_model_module_version": "1.5.0",
            "_model_name": "DescriptionStyleModel",
            "_view_count": null,
            "_view_module": "@jupyter-widgets/base",
            "_view_module_version": "1.2.0",
            "_view_name": "StyleView",
            "description_width": ""
          }
        }
      }
    }
  },
  "cells": [
    {
      "cell_type": "code",
      "execution_count": null,
      "metadata": {
        "colab": {
          "base_uri": "https://localhost:8080/"
        },
        "id": "Q3efVJhFUpoB",
        "outputId": "7f6517c4-e091-45b2-da2c-10e54dd2188c"
      },
      "outputs": [
        {
          "output_type": "stream",
          "name": "stdout",
          "text": [
            "Drive already mounted at /content/drive; to attempt to forcibly remount, call drive.mount(\"/content/drive\", force_remount=True).\n"
          ]
        }
      ],
      "source": [
        "from google.colab import drive\n",
        "drive.mount('/content/drive')"
      ]
    },
    {
      "cell_type": "code",
      "source": [
        "cd /content"
      ],
      "metadata": {
        "colab": {
          "base_uri": "https://localhost:8080/"
        },
        "id": "oYdfoJRgbzK4",
        "outputId": "b25d4a45-7c37-41c5-e02b-6e896530f76b"
      },
      "execution_count": null,
      "outputs": [
        {
          "output_type": "stream",
          "name": "stdout",
          "text": [
            "/content\n"
          ]
        }
      ]
    },
    {
      "cell_type": "code",
      "source": [
        "pwd"
      ],
      "metadata": {
        "colab": {
          "base_uri": "https://localhost:8080/",
          "height": 35
        },
        "id": "ot6EghaBb1r4",
        "outputId": "02827b06-0267-425d-bf84-66112c8d53ae"
      },
      "execution_count": null,
      "outputs": [
        {
          "output_type": "execute_result",
          "data": {
            "text/plain": [
              "'/content'"
            ],
            "application/vnd.google.colaboratory.intrinsic+json": {
              "type": "string"
            }
          },
          "metadata": {},
          "execution_count": 16
        }
      ]
    },
    {
      "cell_type": "code",
      "source": [
        "cd /content/drive/MyDrive/"
      ],
      "metadata": {
        "colab": {
          "base_uri": "https://localhost:8080/"
        },
        "id": "3KD4ZuGsUvhU",
        "outputId": "16e8c982-448e-4aa0-ab91-2d1b2536e29e"
      },
      "execution_count": null,
      "outputs": [
        {
          "output_type": "stream",
          "name": "stdout",
          "text": [
            "/content/drive/MyDrive\n"
          ]
        }
      ]
    },
    {
      "cell_type": "code",
      "source": [
        "cd DAAI2022/"
      ],
      "metadata": {
        "colab": {
          "base_uri": "https://localhost:8080/"
        },
        "id": "foH-DyoPb7mH",
        "outputId": "d85692fd-b782-4482-8ea1-727aa1e5c793"
      },
      "execution_count": null,
      "outputs": [
        {
          "output_type": "stream",
          "name": "stdout",
          "text": [
            "/content/drive/MyDrive/DAAI2022\n"
          ]
        }
      ]
    },
    {
      "cell_type": "code",
      "source": [
        "cd class"
      ],
      "metadata": {
        "colab": {
          "base_uri": "https://localhost:8080/"
        },
        "id": "5MoQlgu7cB2O",
        "outputId": "cb68d320-608a-40fe-c80d-fb035ee7ebe1"
      },
      "execution_count": null,
      "outputs": [
        {
          "output_type": "stream",
          "name": "stdout",
          "text": [
            "/content/drive/MyDrive/DAAI2022/class\n"
          ]
        }
      ]
    },
    {
      "cell_type": "code",
      "source": [
        "cd code"
      ],
      "metadata": {
        "colab": {
          "base_uri": "https://localhost:8080/"
        },
        "id": "AniXKuJncE6R",
        "outputId": "ada26dd0-e118-4c3b-a09e-f9722b1d56c0"
      },
      "execution_count": null,
      "outputs": [
        {
          "output_type": "stream",
          "name": "stdout",
          "text": [
            "/content/drive/MyDrive/DAAI2022/class/code\n"
          ]
        }
      ]
    },
    {
      "cell_type": "code",
      "source": [
        "ls"
      ],
      "metadata": {
        "colab": {
          "base_uri": "https://localhost:8080/"
        },
        "id": "Y13b_XphcJ_H",
        "outputId": "34f1cedb-0952-47ff-b83f-56dbb061772e"
      },
      "execution_count": null,
      "outputs": [
        {
          "output_type": "stream",
          "name": "stdout",
          "text": [
            "alexnet.py  data.py  main.py  \u001b[0m\u001b[01;34mPACS\u001b[0m/  \u001b[01;34m__pycache__\u001b[0m/  \u001b[01;34mtxt_lists\u001b[0m/\n"
          ]
        }
      ]
    },
    {
      "cell_type": "code",
      "source": [
        "!git clone https://github.com/silvia1993/DANN_Template.git"
      ],
      "metadata": {
        "colab": {
          "base_uri": "https://localhost:8080/"
        },
        "id": "xpSC8KOhVJx2",
        "outputId": "7356748d-7492-4f65-fea0-eeeb6a0b65c3"
      },
      "execution_count": null,
      "outputs": [
        {
          "output_type": "stream",
          "name": "stdout",
          "text": [
            "Cloning into 'DANN_Template'...\n",
            "remote: Enumerating objects: 23, done.\u001b[K\n",
            "remote: Total 23 (delta 0), reused 0 (delta 0), pack-reused 23\u001b[K\n",
            "Unpacking objects: 100% (23/23), done.\n"
          ]
        }
      ]
    },
    {
      "cell_type": "code",
      "source": [
        "mv DANN_Template code"
      ],
      "metadata": {
        "id": "KJPMZjMTVMMf"
      },
      "execution_count": null,
      "outputs": []
    },
    {
      "cell_type": "code",
      "source": [
        "!git clone https://github.com/MachineLearning2020/Homework3-PACS"
      ],
      "metadata": {
        "colab": {
          "base_uri": "https://localhost:8080/"
        },
        "id": "gGyL2_BqVOhx",
        "outputId": "3862ff10-fc1b-410b-c55e-3f6b7221b44e"
      },
      "execution_count": null,
      "outputs": [
        {
          "output_type": "stream",
          "name": "stdout",
          "text": [
            "Cloning into 'Homework3-PACS'...\n",
            "remote: Enumerating objects: 10032, done.\u001b[K\n",
            "remote: Total 10032 (delta 0), reused 0 (delta 0), pack-reused 10032\u001b[K\n",
            "Receiving objects: 100% (10032/10032), 174.13 MiB | 16.46 MiB/s, done.\n",
            "Resolving deltas: 100% (1/1), done.\n",
            "Checking out files: 100% (9993/9993), done.\n"
          ]
        }
      ]
    },
    {
      "cell_type": "code",
      "source": [
        "mv Homework3-PACS/PACS code/"
      ],
      "metadata": {
        "id": "qxz4lJTdWYQh"
      },
      "execution_count": null,
      "outputs": []
    },
    {
      "cell_type": "code",
      "source": [
        "cd code"
      ],
      "metadata": {
        "id": "jez93oxgZOYY"
      },
      "execution_count": null,
      "outputs": []
    },
    {
      "cell_type": "code",
      "source": [
        "ls"
      ],
      "metadata": {
        "colab": {
          "base_uri": "https://localhost:8080/"
        },
        "id": "6K0bLee2ZPqZ",
        "outputId": "543516d9-f9f6-4bf6-a9c0-6be12312f8d8"
      },
      "execution_count": null,
      "outputs": [
        {
          "output_type": "stream",
          "name": "stdout",
          "text": [
            "alexnet.py  data.py  main.py  \u001b[0m\u001b[01;34mPACS\u001b[0m/  \u001b[01;34mtxt_lists\u001b[0m/\n"
          ]
        }
      ]
    },
    {
      "cell_type": "code",
      "source": [
        "import torch\n",
        "import torch.nn as nn\n",
        "import torch.optim as optim\n",
        "from torch.utils.data import Subset, DataLoader\n",
        "\n",
        "from torchvision import transforms\n",
        "\n",
        "from data import Dataset\n",
        "from alexnet import AlexNet\n",
        "from torch.utils.model_zoo import load_url as load_state_dict_from_url\n",
        "\n",
        "DATA_DIR = 'PACS/'\n",
        "\n",
        "model_urls = {\n",
        "    'alexnet': 'https://download.pytorch.org/models/alexnet-owt-4df8aa71.pth',\n",
        "}\n",
        "\n",
        "DEVICE = 'cuda'\n",
        "NUM_CLASSES = 7\n",
        "BATCH_SIZE = 256\n",
        "LR = 1e-3            # The initial Learning Rate\n",
        "MOMENTUM = 0.9       # Hyperparameter for SGD, keep this at 0.9 when using SGD\n",
        "WEIGHT_DECAY = 5e-5  # Regularization, you can keep this at the default\n",
        "NUM_EPOCHS = 30      # Total number of training epochs (iterations over dataset)\n",
        "STEP_SIZE = 20       # How many epochs before decreasing learning rate (if using a step-down policy)\n",
        "GAMMA = 0.1          # Multiplicative factor for learning rate step-down\n",
        "\n",
        "LOG_FREQUENCY = 5\n",
        "\n",
        "# Define transforms for training phase\n",
        "train_transform = transforms.Compose([transforms.Resize(256),\n",
        "                                      transforms.CenterCrop(224),\n",
        "                                      transforms.ToTensor(),\n",
        "                                      transforms.Normalize([0.485, 0.456, 0.406], std=[0.229, 0.224, 0.225])\n",
        "])\n",
        "# Define transforms for the evaluation phase\n",
        "eval_transform = transforms.Compose([transforms.Resize(256),\n",
        "                                      transforms.CenterCrop(224),\n",
        "                                      transforms.ToTensor(),\n",
        "                                      transforms.Normalize([0.485, 0.456, 0.406], std=[0.229, 0.224, 0.225])\n",
        "])\n",
        "\n",
        "\n",
        "# Prepare Pytorch train/test Datasets\n",
        "source_dataset = Dataset(DATA_DIR, dataset='cartoon',  transform=train_transform)\n",
        "target_dataset = Dataset(DATA_DIR, dataset='sketch', transform=eval_transform)\n",
        "\n",
        "# Check dataset sizes\n",
        "print('Source Dataset: {}'.format(len(source_dataset)))\n",
        "print('Target Dataset: {}'.format(len(target_dataset)))\n",
        "\n",
        "source_dataloader = DataLoader(source_dataset, batch_size=BATCH_SIZE, shuffle=True, num_workers=2, drop_last=True)\n",
        "target_dataloader = DataLoader(target_dataset, batch_size=BATCH_SIZE, shuffle=False, num_workers=2)\n"
      ],
      "metadata": {
        "colab": {
          "base_uri": "https://localhost:8080/"
        },
        "id": "4fMO_8JiZR9L",
        "outputId": "12231eea-ace0-43ac-8f75-8c0bb458d19b"
      },
      "execution_count": null,
      "outputs": [
        {
          "output_type": "stream",
          "name": "stdout",
          "text": [
            "Source Dataset: 2344\n",
            "Target Dataset: 3929\n"
          ]
        }
      ]
    },
    {
      "cell_type": "code",
      "source": [
        "net = AlexNet() # Loading AlexNet model\n",
        "state_dict = load_state_dict_from_url(model_urls['alexnet'], progress=True)\n",
        "net.load_state_dict(state_dict,strict=False)\n",
        "\n",
        "net.classifier[6] = nn.Linear(4096, NUM_CLASSES)\n",
        "\n",
        "criterion = nn.CrossEntropyLoss() # for classification, we use Cross Entropy\n",
        "parameters_to_optimize = net.parameters() # In this case we optimize over all the parameters of AlexNet\n",
        "optimizer = optim.SGD(parameters_to_optimize, lr=LR, momentum=MOMENTUM, weight_decay=WEIGHT_DECAY)\n",
        "\n",
        "scheduler = optim.lr_scheduler.StepLR(optimizer, step_size=STEP_SIZE, gamma=GAMMA)\n",
        "\n",
        "net = net.to(DEVICE) # this will bring the network to GPU if DEVICE is cuda\n",
        "\n",
        "current_step = 0"
      ],
      "metadata": {
        "colab": {
          "base_uri": "https://localhost:8080/",
          "height": 87,
          "referenced_widgets": [
            "d94137bbf7eb408dba1846e46e83addc",
            "1d3ef9e19213425491b950ee48c8f6b3",
            "37331533de7346f0adcde2a4c0a2d527",
            "dea088c4f7834a48946b8a727335b8b6",
            "f00406a82fdf4f18b1008a046e3c0837",
            "e9572e2443a242e1955e496e01843fa0",
            "d9751db054284805a8b56f81169e1549",
            "13d9edc9ed624442b9c1dbae74706f15",
            "9b7e1a43faac463f90387e4748fb5243",
            "57a64f2c620245188b054768ab8be492",
            "0f001d342d44408abfd4725d8d5e673b"
          ]
        },
        "id": "dzQMIUYTbk1G",
        "outputId": "51d6445b-bf39-4006-f533-0d3d2836dd25"
      },
      "execution_count": null,
      "outputs": [
        {
          "output_type": "stream",
          "name": "stderr",
          "text": [
            "Downloading: \"https://download.pytorch.org/models/alexnet-owt-4df8aa71.pth\" to /root/.cache/torch/hub/checkpoints/alexnet-owt-4df8aa71.pth\n"
          ]
        },
        {
          "output_type": "display_data",
          "data": {
            "text/plain": [
              "  0%|          | 0.00/233M [00:00<?, ?B/s]"
            ],
            "application/vnd.jupyter.widget-view+json": {
              "version_major": 2,
              "version_minor": 0,
              "model_id": "d94137bbf7eb408dba1846e46e83addc"
            }
          },
          "metadata": {}
        }
      ]
    },
    {
      "cell_type": "code",
      "source": [
        "for epoch in range(NUM_EPOCHS):\n",
        "\n",
        "    # Iterate over the dataset\n",
        "    for images, labels in source_dataloader:\n",
        "\n",
        "      images = images.to(DEVICE)\n",
        "      labels = labels.to(DEVICE)\n",
        "\n",
        "      net.train() # Sets module in training mode\n",
        "\n",
        "      optimizer.zero_grad() # Zero-ing the gradients\n",
        "      \n",
        "      outputs = net(images) # Forward pass to the network\n",
        "      loss = criterion(outputs, labels) # Compute loss based on output and ground truth\n",
        "\n",
        "      if current_step % LOG_FREQUENCY == 0:\n",
        "        print('Step {}, Loss {}'.format(current_step, loss.item()))\n",
        "\n",
        "      loss.backward()  # backward pass: computes gradients\n",
        "      optimizer.step() # update weights based on accumulated gradients\n",
        "\n",
        "      current_step += 1\n",
        "\n",
        "    # Step the scheduler\n",
        "    scheduler.step()"
      ],
      "metadata": {
        "colab": {
          "base_uri": "https://localhost:8080/"
        },
        "id": "Gl1O940fdggR",
        "outputId": "fd68bc9c-fc5e-48dc-912d-96debaa9a179"
      },
      "execution_count": null,
      "outputs": [
        {
          "output_type": "stream",
          "name": "stdout",
          "text": [
            "Step 0, Loss 2.050856828689575\n",
            "Step 5, Loss 1.4250600337982178\n",
            "Step 10, Loss 0.7270407676696777\n",
            "Step 15, Loss 0.6061829924583435\n",
            "Step 20, Loss 0.49536454677581787\n",
            "Step 25, Loss 0.617541491985321\n",
            "Step 30, Loss 0.36338552832603455\n",
            "Step 35, Loss 0.3451552093029022\n",
            "Step 40, Loss 0.35067233443260193\n",
            "Step 45, Loss 0.35142332315444946\n",
            "Step 50, Loss 0.20637089014053345\n",
            "Step 55, Loss 0.2442626655101776\n",
            "Step 60, Loss 0.20628827810287476\n",
            "Step 65, Loss 0.22314919531345367\n",
            "Step 70, Loss 0.20487365126609802\n",
            "Step 75, Loss 0.17195941507816315\n",
            "Step 80, Loss 0.14387917518615723\n",
            "Step 85, Loss 0.17844249308109283\n",
            "Step 90, Loss 0.17223964631557465\n",
            "Step 95, Loss 0.11981681734323502\n",
            "Step 100, Loss 0.096489816904068\n",
            "Step 105, Loss 0.1325274109840393\n",
            "Step 110, Loss 0.089801125228405\n",
            "Step 115, Loss 0.06002917140722275\n",
            "Step 120, Loss 0.07965579628944397\n",
            "Step 125, Loss 0.1211298257112503\n",
            "Step 130, Loss 0.07482512295246124\n",
            "Step 135, Loss 0.04384317994117737\n",
            "Step 140, Loss 0.08267012983560562\n",
            "Step 145, Loss 0.07934412360191345\n",
            "Step 150, Loss 0.05175992473959923\n",
            "Step 155, Loss 0.06332869082689285\n",
            "Step 160, Loss 0.08571045845746994\n",
            "Step 165, Loss 0.07717614620923996\n",
            "Step 170, Loss 0.042110297828912735\n",
            "Step 175, Loss 0.04232099652290344\n",
            "Step 180, Loss 0.04256030544638634\n",
            "Step 185, Loss 0.08010690659284592\n",
            "Step 190, Loss 0.03301764279603958\n",
            "Step 195, Loss 0.05786575749516487\n",
            "Step 200, Loss 0.06494849175214767\n",
            "Step 205, Loss 0.04636305570602417\n",
            "Step 210, Loss 0.05759528651833534\n",
            "Step 215, Loss 0.036713361740112305\n",
            "Step 220, Loss 0.033423833549022675\n",
            "Step 225, Loss 0.022063950076699257\n",
            "Step 230, Loss 0.06503305584192276\n",
            "Step 235, Loss 0.042602408677339554\n",
            "Step 240, Loss 0.05630114674568176\n",
            "Step 245, Loss 0.061391234397888184\n",
            "Step 250, Loss 0.05156828463077545\n",
            "Step 255, Loss 0.061620309948921204\n",
            "Step 260, Loss 0.0460578128695488\n",
            "Step 265, Loss 0.03937578201293945\n"
          ]
        }
      ]
    },
    {
      "cell_type": "code",
      "source": [
        "net.train(False) # Set Network to evaluation mode\n",
        "\n",
        "running_corrects = 0\n",
        "for images, labels in target_dataloader:\n",
        "\n",
        "    images = images.to(DEVICE)\n",
        "    labels = labels.to(DEVICE)\n",
        "\n",
        "    outputs = net(images)\n",
        "    _, preds = torch.max(outputs.data, 1)\n",
        "    running_corrects += torch.sum(preds == labels.data).data.item()\n",
        "\n",
        "accuracy = running_corrects / float(len(target_dataset))\n",
        "\n",
        "print('Accuracy on the target domain: {}'.format(accuracy))"
      ],
      "metadata": {
        "colab": {
          "base_uri": "https://localhost:8080/"
        },
        "id": "yHSuutuOdobm",
        "outputId": "8ed64a77-b6f3-4110-a495-7f382aaf5acc"
      },
      "execution_count": null,
      "outputs": [
        {
          "output_type": "stream",
          "name": "stdout",
          "text": [
            "Accuracy on the target domain: 0.4858742682616442\n"
          ]
        }
      ]
    },
    {
      "cell_type": "code",
      "source": [
        "from alexnet import AlexNetDA\n",
        "\n",
        "pretrained_net = AlexNet() # Loading AlexNet model\n",
        "state_dict = load_state_dict_from_url(model_urls['alexnet'], progress=True)\n",
        "pretrained_net.load_state_dict(state_dict,strict=False)\n",
        "pretrained_net.classifier[6] = nn.Linear(4096, NUM_CLASSES)\n",
        "\n",
        "netDA = AlexNetDA(pretrained_net)\n",
        "\n",
        "\n",
        "criterion = nn.CrossEntropyLoss() # for classification, we use Cross Entropy\n",
        "parameters_to_optimize = netDA.parameters() # In this case we optimize over all the parameters of AlexNet\n",
        "optimizerDA = optim.SGD(parameters_to_optimize, lr=LR, momentum=MOMENTUM, weight_decay=WEIGHT_DECAY)\n",
        "\n",
        "schedulerDA = optim.lr_scheduler.StepLR(optimizerDA, step_size=STEP_SIZE, gamma=GAMMA)\n",
        "\n",
        "netDA = netDA.to(DEVICE) # this will bring the network to GPU if DEVICE is cuda\n",
        "\n",
        "current_step = 0"
      ],
      "metadata": {
        "id": "wQgfNptli3Kc"
      },
      "execution_count": null,
      "outputs": []
    },
    {
      "cell_type": "code",
      "source": [
        "target_DA_loader = DataLoader(target_dataset, batch_size=BATCH_SIZE, shuffle=True, num_workers=2, drop_last=True)\n",
        "\n",
        "iter_target = iter(target_DA_loader)\n",
        "\n",
        "alpha = 0.15\n",
        "\n",
        "for epoch in range(NUM_EPOCHS):\n",
        "\n",
        "    # Iterate over the dataset\n",
        "    for images, labels in source_dataloader:\n",
        "\n",
        "      images = images.to(DEVICE)\n",
        "      labels = labels.to(DEVICE)\n",
        "\n",
        "      netDA.train() # Sets module in training mode\n",
        "\n",
        "      optimizerDA.zero_grad() # Zero-ing the gradients\n",
        "      \n",
        "      outputs = netDA(images) # Forward pass to the network\n",
        "      loss = criterion(outputs, labels) # Compute loss based on output and ground truth\n",
        "\n",
        "      outputs = netDA(images, DC=True, alpha=alpha)\n",
        "      source_DA_labels = torch.zeros(len(images), dtype=torch.int64).to(DEVICE)\n",
        "      loss_source_DA = criterion(outputs, source_DA_labels)\n",
        "\n",
        "      try: \n",
        "        target_images, _ = next(iter_target)\n",
        "      except StopIteration: \n",
        "        iter_target = iter(target_DA_loader)\n",
        "        target_images, _ = next(iter_target)\n",
        "\n",
        "      target_images = target_images.to(DEVICE)\n",
        "      outputs = netDA(target_images, DC=True, alpha=alpha)\n",
        "      target_DA_labels = torch.ones(len(images), dtype=torch.int64).to(DEVICE)\n",
        "      loss_target_DA = criterion(outputs, target_DA_labels)\n",
        "\n",
        "      if current_step % LOG_FREQUENCY == 0:\n",
        "        print('Step {}, Loss {}, DA Loss {}'.format(current_step, loss.item(), loss_source_DA.item() + loss_target_DA.item()))\n",
        "\n",
        "      total_loss = loss + loss_source_DA + loss_target_DA\n",
        "      total_loss.backward()  # backward pass: computes gradients\n",
        "\n",
        "      optimizerDA.step() # update weights based on accumulated gradients\n",
        "\n",
        "      current_step += 1\n",
        "\n",
        "    # Step the scheduler\n",
        "    schedulerDA.step()"
      ],
      "metadata": {
        "colab": {
          "base_uri": "https://localhost:8080/"
        },
        "id": "2USYuKcMjwmQ",
        "outputId": "3250c790-722e-40a6-98e9-67c2e4558222"
      },
      "execution_count": null,
      "outputs": [
        {
          "output_type": "stream",
          "name": "stdout",
          "text": [
            "Step 0, Loss 2.422733783721924, DA Loss 1.9086845517158508\n",
            "Step 5, Loss 1.433384656906128, DA Loss 0.08123700693249702\n",
            "Step 10, Loss 0.7720676064491272, DA Loss 0.06458252854645252\n",
            "Step 15, Loss 0.5668811202049255, DA Loss 0.0645255334675312\n",
            "Step 20, Loss 0.4801631271839142, DA Loss 0.057109685614705086\n",
            "Step 25, Loss 0.5503724217414856, DA Loss 0.24424083769554272\n",
            "Step 30, Loss 0.4698273539543152, DA Loss 0.6802689768373966\n",
            "Step 35, Loss 0.4325312674045563, DA Loss 2.6597299612960796\n",
            "Step 40, Loss 0.5722215175628662, DA Loss 1.26906356215477\n",
            "Step 45, Loss 0.4729083776473999, DA Loss 0.9743311852216721\n",
            "Step 50, Loss 0.4898388385772705, DA Loss 0.7069421112537384\n",
            "Step 55, Loss 0.3423309624195099, DA Loss 0.8821365684270859\n",
            "Step 60, Loss 0.29429566860198975, DA Loss 1.5094197392463684\n",
            "Step 65, Loss 0.33846381306648254, DA Loss 0.5904172360897064\n",
            "Step 70, Loss 0.38627365231513977, DA Loss 0.7021835744380951\n",
            "Step 75, Loss 0.24948664009571075, DA Loss 0.39710066467523575\n",
            "Step 80, Loss 0.3156166970729828, DA Loss 0.377867616713047\n",
            "Step 85, Loss 0.29524266719818115, DA Loss 1.1124969869852066\n",
            "Step 90, Loss 0.38111642003059387, DA Loss 1.1038692221045494\n",
            "Step 95, Loss 0.24555130302906036, DA Loss 0.8166052848100662\n",
            "Step 100, Loss 0.3366035223007202, DA Loss 0.4527815505862236\n",
            "Step 105, Loss 0.3922401964664459, DA Loss 0.37317879498004913\n",
            "Step 110, Loss 0.20741839706897736, DA Loss 0.2981673702597618\n",
            "Step 115, Loss 0.2511451840400696, DA Loss 0.15908169746398926\n",
            "Step 120, Loss 0.13117735087871552, DA Loss 0.3666113466024399\n",
            "Step 125, Loss 0.19609373807907104, DA Loss 0.29920559003949165\n",
            "Step 130, Loss 0.13191597163677216, DA Loss 0.24053119122982025\n",
            "Step 135, Loss 0.1377503126859665, DA Loss 0.2460976168513298\n",
            "Step 140, Loss 0.11789081245660782, DA Loss 0.24167140573263168\n",
            "Step 145, Loss 0.12876597046852112, DA Loss 0.17696071416139603\n",
            "Step 150, Loss 0.1327477991580963, DA Loss 0.1515297330915928\n",
            "Step 155, Loss 0.12819214165210724, DA Loss 0.1330742985010147\n",
            "Step 160, Loss 0.06895718723535538, DA Loss 0.18917524069547653\n",
            "Step 165, Loss 0.0682755634188652, DA Loss 0.08680475130677223\n",
            "Step 170, Loss 0.0690532773733139, DA Loss 0.08768960274755955\n",
            "Step 175, Loss 0.08546136319637299, DA Loss 0.1785152330994606\n",
            "Step 180, Loss 0.09960681945085526, DA Loss 0.09727368876338005\n",
            "Step 185, Loss 0.08218903839588165, DA Loss 0.16973265260457993\n",
            "Step 190, Loss 0.06287793070077896, DA Loss 0.09883963689208031\n",
            "Step 195, Loss 0.03507527336478233, DA Loss 0.08925688825547695\n",
            "Step 200, Loss 0.05317511782050133, DA Loss 0.10145492479205132\n",
            "Step 205, Loss 0.06797868013381958, DA Loss 0.11326277256011963\n",
            "Step 210, Loss 0.052928268909454346, DA Loss 0.081441480666399\n",
            "Step 215, Loss 0.04686189442873001, DA Loss 0.07372493855655193\n",
            "Step 220, Loss 0.06517375260591507, DA Loss 0.07898200117051601\n",
            "Step 225, Loss 0.060341477394104004, DA Loss 0.0944305881857872\n",
            "Step 230, Loss 0.05262894555926323, DA Loss 0.10671738162636757\n",
            "Step 235, Loss 0.0596536323428154, DA Loss 0.11025302484631538\n",
            "Step 240, Loss 0.04162529110908508, DA Loss 0.1248500756919384\n",
            "Step 245, Loss 0.05166969448328018, DA Loss 0.10954024270176888\n",
            "Step 250, Loss 0.05348920449614525, DA Loss 0.09836627170443535\n",
            "Step 255, Loss 0.08533140271902084, DA Loss 0.11094743385910988\n",
            "Step 260, Loss 0.06050543859601021, DA Loss 0.09983901306986809\n",
            "Step 265, Loss 0.04349290207028389, DA Loss 0.12318575754761696\n"
          ]
        }
      ]
    },
    {
      "cell_type": "code",
      "source": [
        "netDA.train(False) # Set Network to evaluation mode\n",
        "\n",
        "running_corrects = 0\n",
        "for images, labels in target_dataloader:\n",
        "\n",
        "    images = images.to(DEVICE)\n",
        "    labels = labels.to(DEVICE)\n",
        "\n",
        "    outputs = netDA(images)\n",
        "    _, preds = torch.max(outputs.data, 1)\n",
        "    running_corrects += torch.sum(preds == labels.data).data.item()\n",
        "\n",
        "accuracy = running_corrects / float(len(target_dataset))\n",
        "\n",
        "print('Accuracy on the target domain: {}'.format(accuracy))"
      ],
      "metadata": {
        "colab": {
          "base_uri": "https://localhost:8080/"
        },
        "id": "HuR34qyQml7W",
        "outputId": "1ae476e4-6b2b-47ab-e5a1-69da937d3f04"
      },
      "execution_count": null,
      "outputs": [
        {
          "output_type": "stream",
          "name": "stdout",
          "text": [
            "Accuracy on the target domain: 0.5795367778060575\n"
          ]
        }
      ]
    },
    {
      "cell_type": "code",
      "source": [],
      "metadata": {
        "id": "iJTx8HNxpxZj"
      },
      "execution_count": null,
      "outputs": []
    }
  ]
}